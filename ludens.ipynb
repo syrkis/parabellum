{
 "cells": [
  {
   "cell_type": "code",
   "execution_count": 1,
   "metadata": {},
   "outputs": [
    {
     "name": "stdout",
     "output_type": "stream",
     "text": [
      "pygame 2.5.2 (SDL 2.28.3, Python 3.11.7)\n",
      "Hello from the pygame community. https://www.pygame.org/contribute.html\n"
     ]
    },
    {
     "name": "stderr",
     "output_type": "stream",
     "text": [
      "2024-06-23 18:48:38.939 python[38248:351853] ApplePersistence=NO\n"
     ]
    }
   ],
   "source": [
    "import pygame\n",
    "from jax import random\n",
    "from functools import partial\n",
    "import darkdetect\n",
    "import jax.numpy as jnp\n",
    "from chex import dataclass\n",
    "import jaxmarl\n",
    "from typing import Tuple, List, Any, Optional, Dict as DictType\n",
    "import parabellum as pb"
   ]
  },
  {
   "cell_type": "code",
   "execution_count": 2,
   "metadata": {},
   "outputs": [],
   "source": [
    "fg = (255, 255, 255) if darkdetect.isDark() else (0, 0, 0)\n",
    "bg = (0, 0, 0) if darkdetect.isDark() else (255, 255, 255)"
   ]
  },
  {
   "cell_type": "code",
   "execution_count": 3,
   "metadata": {},
   "outputs": [],
   "source": [
    "# parabellum setup\n",
    "env = pb.Parabellum(pb.scenarios[\"default\"])"
   ]
  },
  {
   "cell_type": "code",
   "execution_count": 4,
   "metadata": {},
   "outputs": [],
   "source": [
    "# types\n",
    "State = jaxmarl.environments.smax.smax_env.State\n",
    "Dict = DictType[str, jnp.ndarray]\n",
    "StateSeq = List[Tuple[jnp.array, State, Dict]]"
   ]
  },
  {
   "cell_type": "code",
   "execution_count": 5,
   "metadata": {},
   "outputs": [],
   "source": [
    "@dataclass\n",
    "class Control:\n",
    "    running: bool = True\n",
    "    paused: bool = False\n",
    "    click: bool = None\n",
    "\n",
    "\n",
    "@dataclass\n",
    "class Game:\n",
    "    clock: pygame.time.Clock\n",
    "    state: State\n",
    "    obs: Dict\n",
    "    state_seq: StateSeq\n",
    "    control: Control\n",
    "    env: pb.Parabellum\n",
    "    rng: random.PRNGKey"
   ]
  },
  {
   "cell_type": "code",
   "execution_count": 6,
   "metadata": {},
   "outputs": [],
   "source": [
    "def handle_event(event, control_state):\n",
    "    if event.type == pygame.QUIT:\n",
    "        control_state.running = False\n",
    "    if event.type == pygame.MOUSEBUTTONDOWN:\n",
    "        pos = pygame.mouse.get_pos()\n",
    "        control_state.click = pos\n",
    "    if event.type == pygame.KEYDOWN:  # any key press pauses\n",
    "        control_state.paused = not control_state.paused\n",
    "    return control_state"
   ]
  },
  {
   "cell_type": "code",
   "execution_count": 7,
   "metadata": {},
   "outputs": [],
   "source": [
    "def control_fn(game):\n",
    "    game.control.click = None  # reset click\n",
    "    for event in pygame.event.get():\n",
    "        game.control = handle_event(event, game.control)\n",
    "    return game"
   ]
  },
  {
   "cell_type": "code",
   "execution_count": 8,
   "metadata": {},
   "outputs": [],
   "source": [
    "def render_fn(screen, game):\n",
    "    if len(game.state_seq) < 3:\n",
    "        return game\n",
    "    for rng, state, action in env.expand_state_seq(game.state_seq[-2:])[-8:]:\n",
    "        screen.fill(bg)\n",
    "        unit_positions = state.unit_positions\n",
    "        for pos in unit_positions:\n",
    "            pos = (pos / env.map_width * 800).tolist()\n",
    "            pygame.draw.circle(screen, fg, pos, 5)\n",
    "        pygame.display.flip()\n",
    "        game.clock.tick(24)  # limits FPS to 24\n",
    "    return game"
   ]
  },
  {
   "cell_type": "code",
   "execution_count": 9,
   "metadata": {},
   "outputs": [],
   "source": [
    "def step_fn(game):\n",
    "    rng, act_rng, step_key = random.split(game.rng, 3)\n",
    "    act_key = random.split(act_rng, env.num_agents)\n",
    "    action = {\n",
    "        a: env.action_space(a).sample(act_key[i]) for i, a in enumerate(env.agents)\n",
    "    }\n",
    "    state_seq_entry = (step_key, game.state, action)\n",
    "    # append state_seq_entry to state_seq\n",
    "    game.state_seq.append(state_seq_entry)\n",
    "    obs, state, reward, done, info = env.step(step_key, game.state, action)\n",
    "    game.state = state\n",
    "    game.obs = obs\n",
    "    game.rng = rng\n",
    "    return game"
   ]
  },
  {
   "cell_type": "code",
   "execution_count": 10,
   "metadata": {},
   "outputs": [],
   "source": [
    "# pygame setup\n",
    "pygame.init()\n",
    "screen = pygame.display.set_mode((1280, 720))\n",
    "render = partial(render_fn, screen)\n",
    "clock = pygame.time.Clock()\n",
    "rng, key = random.split(random.PRNGKey(0))\n",
    "obs, state = env.reset(key)\n",
    "kwargs = dict(\n",
    "    control=Control(),\n",
    "    env=env,\n",
    "    rng=rng,\n",
    "    state_seq=[],  # [(key, state, action)]\n",
    "    clock=clock,\n",
    "    state=state,\n",
    "    obs=obs,\n",
    ")\n",
    "game = Game(**kwargs)"
   ]
  },
  {
   "cell_type": "code",
   "execution_count": 11,
   "metadata": {},
   "outputs": [
    {
     "ename": "KeyboardInterrupt",
     "evalue": "",
     "output_type": "error",
     "traceback": [
      "\u001b[0;31m---------------------------------------------------------------------------\u001b[0m",
      "\u001b[0;31mKeyboardInterrupt\u001b[0m                         Traceback (most recent call last)",
      "Cell \u001b[0;32mIn[11], line 2\u001b[0m\n\u001b[1;32m      1\u001b[0m \u001b[38;5;28;01mwhile\u001b[39;00m game\u001b[38;5;241m.\u001b[39mcontrol\u001b[38;5;241m.\u001b[39mrunning:\n\u001b[0;32m----> 2\u001b[0m     game \u001b[38;5;241m=\u001b[39m \u001b[43mcontrol_fn\u001b[49m\u001b[43m(\u001b[49m\u001b[43mgame\u001b[49m\u001b[43m)\u001b[49m\n\u001b[1;32m      3\u001b[0m     game \u001b[38;5;241m=\u001b[39m game \u001b[38;5;28;01mif\u001b[39;00m game\u001b[38;5;241m.\u001b[39mcontrol\u001b[38;5;241m.\u001b[39mpaused \u001b[38;5;28;01melse\u001b[39;00m step_fn(game)\n\u001b[1;32m      4\u001b[0m     game \u001b[38;5;241m=\u001b[39m game \u001b[38;5;28;01mif\u001b[39;00m game\u001b[38;5;241m.\u001b[39mcontrol\u001b[38;5;241m.\u001b[39mpaused \u001b[38;5;28;01melse\u001b[39;00m render(game)\n",
      "Cell \u001b[0;32mIn[7], line 3\u001b[0m, in \u001b[0;36mcontrol_fn\u001b[0;34m(game)\u001b[0m\n\u001b[1;32m      1\u001b[0m \u001b[38;5;28;01mdef\u001b[39;00m \u001b[38;5;21mcontrol_fn\u001b[39m(game):\n\u001b[1;32m      2\u001b[0m     game\u001b[38;5;241m.\u001b[39mcontrol\u001b[38;5;241m.\u001b[39mclick \u001b[38;5;241m=\u001b[39m \u001b[38;5;28;01mNone\u001b[39;00m  \u001b[38;5;66;03m# reset click\u001b[39;00m\n\u001b[0;32m----> 3\u001b[0m     \u001b[38;5;28;01mfor\u001b[39;00m event \u001b[38;5;129;01min\u001b[39;00m \u001b[43mpygame\u001b[49m\u001b[38;5;241;43m.\u001b[39;49m\u001b[43mevent\u001b[49m\u001b[38;5;241;43m.\u001b[39;49m\u001b[43mget\u001b[49m\u001b[43m(\u001b[49m\u001b[43m)\u001b[49m:\n\u001b[1;32m      4\u001b[0m         game\u001b[38;5;241m.\u001b[39mcontrol \u001b[38;5;241m=\u001b[39m handle_event(event, game\u001b[38;5;241m.\u001b[39mcontrol)\n\u001b[1;32m      5\u001b[0m     \u001b[38;5;28;01mreturn\u001b[39;00m game\n",
      "\u001b[0;31mKeyboardInterrupt\u001b[0m: "
     ]
    }
   ],
   "source": [
    "while game.control.running:\n",
    "    game = control_fn(game)\n",
    "    game = game if game.control.paused else step_fn(game)\n",
    "    game = game if game.control.paused else render(game)\n",
    "\n",
    "pygame.quit()"
   ]
  },
  {
   "cell_type": "code",
   "execution_count": null,
   "metadata": {},
   "outputs": [],
   "source": []
  },
  {
   "cell_type": "code",
   "execution_count": null,
   "metadata": {},
   "outputs": [],
   "source": []
  }
 ],
 "metadata": {
  "kernelspec": {
   "display_name": "parabellum-2VeurUE4-py3.11",
   "language": "python",
   "name": "python3"
  },
  "language_info": {
   "codemirror_mode": {
    "name": "ipython",
    "version": 3
   },
   "file_extension": ".py",
   "mimetype": "text/x-python",
   "name": "python",
   "nbconvert_exporter": "python",
   "pygments_lexer": "ipython3",
   "version": "3.11.7"
  }
 },
 "nbformat": 4,
 "nbformat_minor": 2
}
