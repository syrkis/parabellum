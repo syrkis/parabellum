{
 "cells": [
  {
   "cell_type": "code",
   "execution_count": 12,
   "metadata": {},
   "outputs": [],
   "source": [
    "import pygame\n",
    "from jax import random\n",
    "from functools import partial\n",
    "import darkdetect\n",
    "import jax.numpy as jnp\n",
    "from chex import dataclass\n",
    "import jaxmarl\n",
    "from typing import Tuple, List, Dict, Optional\n",
    "import parabellum as pb"
   ]
  },
  {
   "cell_type": "code",
   "execution_count": 13,
   "metadata": {},
   "outputs": [],
   "source": [
    "fg = (255, 255, 255) if darkdetect.isDark() else (0, 0, 0)\n",
    "bg = (0, 0, 0) if darkdetect.isDark() else (255, 255, 255)"
   ]
  },
  {
   "cell_type": "code",
   "execution_count": 14,
   "metadata": {},
   "outputs": [],
   "source": [
    "# parabellum setup\n",
    "env = pb.Parabellum(pb.scenarios[\"default\"])"
   ]
  },
  {
   "cell_type": "code",
   "execution_count": 15,
   "metadata": {},
   "outputs": [],
   "source": [
    "# types\n",
    "Seed = jnp.ndarray\n",
    "State = jaxmarl.environments.smax.smax_env.State\n",
    "DictType = Dict[str, jnp.ndarray]\n",
    "Obs = Reward = Done = Action = DictType\n",
    "StateSeq = List[Tuple[Seed, State, Action]]"
   ]
  },
  {
   "cell_type": "code",
   "execution_count": 16,
   "metadata": {},
   "outputs": [],
   "source": [
    "@dataclass\n",
    "class Control:\n",
    "    running: bool = True\n",
    "    paused: bool = False\n",
    "    click: Optional[Tuple[int, int]] = None\n",
    "\n",
    "\n",
    "@dataclass\n",
    "class Game:\n",
    "    clock: pygame.time.Clock\n",
    "    state: State\n",
    "    obs: Dict\n",
    "    state_seq: StateSeq\n",
    "    control: Control\n",
    "    env: pb.Parabellum\n",
    "    rng: random.PRNGKey"
   ]
  },
  {
   "cell_type": "code",
   "execution_count": 17,
   "metadata": {},
   "outputs": [],
   "source": [
    "def handle_event(event, control_state):\n",
    "    if event.type == pygame.QUIT:\n",
    "        control_state.running = False\n",
    "    if event.type == pygame.MOUSEBUTTONDOWN:\n",
    "        pos = pygame.mouse.get_pos()\n",
    "        control_state.click = pos\n",
    "    if event.type == pygame.MOUSEBUTTONUP:\n",
    "        control_state.click = None\n",
    "    if event.type == pygame.KEYDOWN:  # any key press pauses\n",
    "        control_state.paused = not control_state.paused\n",
    "    return control_state"
   ]
  },
  {
   "cell_type": "code",
   "execution_count": 18,
   "metadata": {},
   "outputs": [],
   "source": [
    "def control_fn(game):\n",
    "    for event in pygame.event.get():\n",
    "        game.control = handle_event(event, game.control)\n",
    "    return game"
   ]
  },
  {
   "cell_type": "code",
   "execution_count": 19,
   "metadata": {},
   "outputs": [],
   "source": [
    "def render_fn(screen, game):\n",
    "    if len(game.state_seq) < 3:\n",
    "        return game\n",
    "    for rng, state, action in env.expand_state_seq(game.state_seq[-2:])[-8:]:\n",
    "        screen.fill(bg)\n",
    "        if game.control.click is not None:\n",
    "            pygame.draw.circle(screen, \"red\", game.control.click, 10)\n",
    "        unit_positions = state.unit_positions\n",
    "        for pos in unit_positions:\n",
    "            pos = (pos / env.map_width * 800).tolist()\n",
    "            pygame.draw.circle(screen, fg, pos, 5)\n",
    "        pygame.display.flip()\n",
    "        game.clock.tick(24)  # limits FPS to 24\n",
    "    return game"
   ]
  },
  {
   "cell_type": "code",
   "execution_count": 20,
   "metadata": {},
   "outputs": [],
   "source": [
    "def step_fn(game):\n",
    "    rng, act_rng, step_key = random.split(game.rng, 3)\n",
    "    act_key = random.split(act_rng, env.num_agents)\n",
    "    action = {\n",
    "        a: env.action_space(a).sample(act_key[i]) for i, a in enumerate(env.agents)\n",
    "    }\n",
    "    state_seq_entry = (step_key, game.state, action)\n",
    "    # append state_seq_entry to state_seq\n",
    "    game.state_seq.append(state_seq_entry)\n",
    "    obs, state, reward, done, info = env.step(step_key, game.state, action)\n",
    "    game.state = state\n",
    "    game.obs = obs\n",
    "    game.rng = rng\n",
    "    return game"
   ]
  },
  {
   "cell_type": "code",
   "execution_count": 21,
   "metadata": {},
   "outputs": [
    {
     "ename": "SyntaxError",
     "evalue": "invalid syntax. Perhaps you forgot a comma? (3167373708.py, line 12)",
     "output_type": "error",
     "traceback": [
      "\u001b[0;36m  Cell \u001b[0;32mIn[21], line 12\u001b[0;36m\u001b[0m\n\u001b[0;31m    clock=pygame.time.Clock()\u001b[0m\n\u001b[0m          ^\u001b[0m\n\u001b[0;31mSyntaxError\u001b[0m\u001b[0;31m:\u001b[0m invalid syntax. Perhaps you forgot a comma?\n"
     ]
    }
   ],
   "source": [
    "# pygame setup\n",
    "pygame.init()\n",
    "screen = pygame.display.set_mode((720, 720))\n",
    "render = partial(render_fn, screen)\n",
    "rng, key = random.split(random.PRNGKey(0))\n",
    "obs, state = env.reset(key)\n",
    "kwargs = dict(\n",
    "    control=Control(),\n",
    "    env=env,\n",
    "    rng=rng,\n",
    "    state_seq=[],  # [(key, state, action)]\n",
    "    clock=pygame.time.Clock()\n",
    "    state=state,\n",
    "    obs=obs,\n",
    ")\n",
    "game = Game(**kwargs)"
   ]
  },
  {
   "cell_type": "code",
   "execution_count": null,
   "metadata": {},
   "outputs": [],
   "source": [
    "while game.control.running:\n",
    "    game = control_fn(game)\n",
    "    game = game if game.control.paused else step_fn(game)\n",
    "    game = game if game.control.paused else render(game)\n",
    "\n",
    "pygame.quit()"
   ]
  }
 ],
 "metadata": {
  "kernelspec": {
   "display_name": "parabellum-2VeurUE4-py3.11",
   "language": "python",
   "name": "python3"
  },
  "language_info": {
   "codemirror_mode": {
    "name": "ipython",
    "version": 3
   },
   "file_extension": ".py",
   "mimetype": "text/x-python",
   "name": "python",
   "nbconvert_exporter": "python",
   "pygments_lexer": "ipython3",
   "version": "3.11.7"
  }
 },
 "nbformat": 4,
 "nbformat_minor": 2
}
