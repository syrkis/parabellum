{
 "cells": [
  {
   "cell_type": "code",
   "execution_count": 6,
   "metadata": {},
   "outputs": [],
   "source": [
    "from jax import random\n",
    "import parabellum as pb"
   ]
  },
  {
   "cell_type": "code",
   "execution_count": 7,
   "metadata": {},
   "outputs": [],
   "source": [
    "place = \"Indre By, Copenhagen, Denmark\"\n",
    "terrain = pb.terrain_fn(place, 1000)\n",
    "scenario = pb.make_scenario(place, terrain, 10, 10)\n",
    "env = pb.Environment(scenario)"
   ]
  },
  {
   "cell_type": "code",
   "execution_count": 8,
   "metadata": {},
   "outputs": [],
   "source": [
    "rng, key = random.split(random.PRNGKey(seed := 0))\n",
    "obs, state = env.reset(key)\n",
    "state_seq = []"
   ]
  },
  {
   "cell_type": "code",
   "execution_count": 9,
   "metadata": {},
   "outputs": [],
   "source": [
    "for i in range(100):\n",
    "    rng, act_rng, step_key = random.split(rng, 3)\n",
    "    act_key = random.split(act_rng, len(env.agents))\n",
    "    actions = {\n",
    "        a: 0 * env.action_space(a).sample(k) for a, k in zip(env.agents, act_key)\n",
    "    }\n",
    "    state_seq.append((step_key, state, actions))\n",
    "    obs, state, reward, done, info = env.step(step_key, state, actions)"
   ]
  },
  {
   "cell_type": "code",
   "execution_count": 10,
   "metadata": {},
   "outputs": [
    {
     "name": "stderr",
     "output_type": "stream",
     "text": [
      "800it [00:13, 60.61it/s]                        \n"
     ]
    },
    {
     "name": "stdout",
     "output_type": "stream",
     "text": [
      "Moviepy - Building video output/parabellum.mp4.\n",
      "Moviepy - Writing video output/parabellum.mp4\n",
      "\n"
     ]
    },
    {
     "name": "stderr",
     "output_type": "stream",
     "text": [
      "                                                               \r"
     ]
    },
    {
     "name": "stdout",
     "output_type": "stream",
     "text": [
      "Moviepy - Done !\n",
      "Moviepy - video ready output/parabellum.mp4\n"
     ]
    }
   ],
   "source": [
    "vis = pb.Visualizer(env, state_seq)\n",
    "vis.animate()"
   ]
  }
 ],
 "metadata": {
  "kernelspec": {
   "display_name": "parabellum-2VeurUE4-py3.11",
   "language": "python",
   "name": "python3"
  },
  "language_info": {
   "codemirror_mode": {
    "name": "ipython",
    "version": 3
   },
   "file_extension": ".py",
   "mimetype": "text/x-python",
   "name": "python",
   "nbconvert_exporter": "python",
   "pygments_lexer": "ipython3",
   "version": "3.11.7"
  }
 },
 "nbformat": 4,
 "nbformat_minor": 2
}
