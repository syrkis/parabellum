{
 "cells": [
  {
   "cell_type": "code",
   "execution_count": 11,
   "metadata": {},
   "outputs": [],
   "source": [
    "from jax import random\n",
    "import parabellum as pb"
   ]
  },
  {
   "cell_type": "code",
   "execution_count": 12,
   "metadata": {},
   "outputs": [],
   "source": [
    "place = \"Indre By, Copenhagen, Denmark\"\n",
    "terrain = pb.terrain_fn(place, 1000)\n",
    "scenario = pb.make_scenario(place, terrain, 100, 100)\n",
    "env = pb.Environment(scenario)"
   ]
  },
  {
   "cell_type": "code",
   "execution_count": 13,
   "metadata": {},
   "outputs": [],
   "source": [
    "rng, key = random.split(random.PRNGKey(seed := 0))\n",
    "obs, state = env.reset(key)\n",
    "state_seq = []"
   ]
  },
  {
   "cell_type": "code",
   "execution_count": 14,
   "metadata": {},
   "outputs": [],
   "source": [
    "for i in range(100):\n",
    "    rng, act_rng, step_key = random.split(rng, 3)\n",
    "    act_key = random.split(act_rng, len(env.agents))\n",
    "    actions = {\n",
    "        a: 0 * env.action_space(a).sample(k) + 2 for a, k in zip(env.agents, act_key)\n",
    "    }\n",
    "    state_seq.append((step_key, state, actions))\n",
    "    obs, state, reward, done, info = env.step(step_key, state, actions)"
   ]
  },
  {
   "cell_type": "code",
   "execution_count": 15,
   "metadata": {},
   "outputs": [
    {
     "name": "stderr",
     "output_type": "stream",
     "text": [
      "800it [01:57,  6.78it/s]                         \n"
     ]
    },
    {
     "name": "stdout",
     "output_type": "stream",
     "text": [
      "Moviepy - Building video output/parabellum.mp4.\n",
      "Moviepy - Writing video output/parabellum.mp4\n",
      "\n"
     ]
    },
    {
     "name": "stderr",
     "output_type": "stream",
     "text": [
      "                                                              \r"
     ]
    },
    {
     "name": "stdout",
     "output_type": "stream",
     "text": [
      "Moviepy - Done !\n",
      "Moviepy - video ready output/parabellum.mp4\n"
     ]
    },
    {
     "ename": "",
     "evalue": "",
     "output_type": "error",
     "traceback": [
      "\u001b[1;31mThe Kernel crashed while executing code in the current cell or a previous cell. \n",
      "\u001b[1;31mPlease review the code in the cell(s) to identify a possible cause of the failure. \n",
      "\u001b[1;31mClick <a href='https://aka.ms/vscodeJupyterKernelCrash'>here</a> for more info. \n",
      "\u001b[1;31mView Jupyter <a href='command:jupyter.viewOutput'>log</a> for further details."
     ]
    }
   ],
   "source": [
    "vis = pb.Visualizer(env, state_seq)\n",
    "vis.animate()"
   ]
  }
 ],
 "metadata": {
  "kernelspec": {
   "display_name": "parabellum-2VeurUE4-py3.11",
   "language": "python",
   "name": "python3"
  },
  "language_info": {
   "codemirror_mode": {
    "name": "ipython",
    "version": 3
   },
   "file_extension": ".py",
   "mimetype": "text/x-python",
   "name": "python",
   "nbconvert_exporter": "python",
   "pygments_lexer": "ipython3",
   "version": "3.11.7"
  }
 },
 "nbformat": 4,
 "nbformat_minor": 2
}
