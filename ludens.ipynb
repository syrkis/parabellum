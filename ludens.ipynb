{
 "cells": [
  {
   "cell_type": "code",
   "execution_count": 7,
   "metadata": {},
   "outputs": [],
   "source": [
    "import parabellum as pb\n",
    "import jax\n",
    "from jax import grad, jit, vmap, random"
   ]
  },
  {
   "cell_type": "code",
   "execution_count": 9,
   "metadata": {},
   "outputs": [],
   "source": [
    "env = pb.Parabellum()\n",
    "rng, key = random.split(random.PRNGKey(0))\n",
    "obs, state = env.reset(key)\n",
    "state_seq = []\n",
    "for step in range(100):\n",
    "    rng, key = random.split(rng)\n",
    "    key_act = random.split(key, len(env.agents))\n",
    "    actions = {\n",
    "        agent: env.action_space(agent).sample(key_act[i])\n",
    "        for i, agent in enumerate(env.agents)\n",
    "    }\n",
    "    state_seq.append((key, state, actions))\n",
    "    rng, key_step = random.split(rng)\n",
    "    obs, state, reward, done, infos = env.step(key_step, state, actions)\n",
    "\n",
    "vis = pb.Visualizer(env, state_seq)\n",
    "vis.animate()"
   ]
  },
  {
   "cell_type": "code",
   "execution_count": null,
   "metadata": {},
   "outputs": [],
   "source": []
  }
 ],
 "metadata": {
  "kernelspec": {
   "display_name": "parabellum-2VeurUE4-py3.11",
   "language": "python",
   "name": "python3"
  },
  "language_info": {
   "codemirror_mode": {
    "name": "ipython",
    "version": 3
   },
   "file_extension": ".py",
   "mimetype": "text/x-python",
   "name": "python",
   "nbconvert_exporter": "python",
   "pygments_lexer": "ipython3",
   "version": "3.11.7"
  }
 },
 "nbformat": 4,
 "nbformat_minor": 2
}
