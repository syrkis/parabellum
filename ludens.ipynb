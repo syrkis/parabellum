{
 "cells": [
  {
   "cell_type": "code",
   "execution_count": 1,
   "metadata": {},
   "outputs": [
    {
     "name": "stderr",
     "output_type": "stream",
     "text": [
      "2024-06-17 20:31:39.234 python[99359:2829299] ApplePersistence=NO\n"
     ]
    }
   ],
   "source": [
    "import parabellum as pb\n",
    "import jax\n",
    "from jax import grad, jit, vmap, random"
   ]
  },
  {
   "cell_type": "code",
   "execution_count": 2,
   "metadata": {},
   "outputs": [
    {
     "name": "stderr",
     "output_type": "stream",
     "text": [
      "100%|██████████| 800/800 [00:08<00:00, 89.37it/s]\n"
     ]
    },
    {
     "name": "stdout",
     "output_type": "stream",
     "text": [
      "Moviepy - Building video parabellum.mp4.\n",
      "Moviepy - Writing video parabellum.mp4\n",
      "\n"
     ]
    },
    {
     "name": "stderr",
     "output_type": "stream",
     "text": [
      "                                                              \r"
     ]
    },
    {
     "name": "stdout",
     "output_type": "stream",
     "text": [
      "Moviepy - Done !\n",
      "Moviepy - video ready parabellum.mp4\n"
     ]
    },
    {
     "data": {
      "image/png": "[encoded data removed]",
      "text/plain": [
       "<Figure size 600x500 with 1 Axes>"
      ]
     },
     "metadata": {},
     "output_type": "display_data"
    }
   ],
   "source": [
    "env = pb.Parabellum()\n",
    "rng, key = random.split(random.PRNGKey(0))\n",
    "obs, state = env.reset(key)\n",
    "state_seq = []\n",
    "\n",
    "for step in range(100):\n",
    "    rng, key = random.split(rng)\n",
    "    key_act = random.split(key, len(env.agents))\n",
    "    actions = {\n",
    "        agent: env.action_space(agent).sample(key_act[i])\n",
    "        for i, agent in enumerate(env.agents)\n",
    "    }\n",
    "    state_seq.append((key, state, actions))\n",
    "    rng, key_step = random.split(rng)\n",
    "    obs, state, reward, done, infos = env.step(key_step, state, actions)\n",
    "\n",
    "vis = pb.Visualizer(env, state_seq)\n",
    "clip = vis.animate()"
   ]
  },
  {
   "cell_type": "code",
   "execution_count": null,
   "metadata": {},
   "outputs": [],
   "source": []
  }
 ],
 "metadata": {
  "kernelspec": {
   "display_name": "parabellum-2VeurUE4-py3.11",
   "language": "python",
   "name": "python3"
  },
  "language_info": {
   "codemirror_mode": {
    "name": "ipython",
    "version": 3
   },
   "file_extension": ".py",
   "mimetype": "text/x-python",
   "name": "python",
   "nbconvert_exporter": "python",
   "pygments_lexer": "ipython3",
   "version": "3.11.7"
  }
 },
 "nbformat": 4,
 "nbformat_minor": 2
}
