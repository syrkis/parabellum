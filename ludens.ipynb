{
 "cells": [
  {
   "cell_type": "code",
   "execution_count": 2,
   "metadata": {},
   "outputs": [
    {
     "ename": "ValueError",
     "evalue": "Unable to avoid copy while creating an array as requested.\nIf using `np.array(obj, copy=False)` replace it with `np.asarray(obj)` to allow a copy when needed (no behavior change in NumPy 1.x).\nFor more details, see https://numpy.org/devdocs/numpy_2_0_migration_guide.html#adapting-to-changes-in-the-copy-keyword.",
     "output_type": "error",
     "traceback": [
      "\u001b[0;31m---------------------------------------------------------------------------\u001b[0m",
      "\u001b[0;31mValueError\u001b[0m                                Traceback (most recent call last)",
      "Cell \u001b[0;32mIn[2], line 1\u001b[0m\n\u001b[0;32m----> 1\u001b[0m \u001b[38;5;28;01mimport\u001b[39;00m \u001b[38;5;21;01mparabellum\u001b[39;00m \u001b[38;5;28;01mas\u001b[39;00m \u001b[38;5;21;01mpb\u001b[39;00m\n\u001b[1;32m      2\u001b[0m \u001b[38;5;28;01mfrom\u001b[39;00m \u001b[38;5;21;01mjax\u001b[39;00m \u001b[38;5;28;01mimport\u001b[39;00m random\n\u001b[1;32m      4\u001b[0m \u001b[38;5;66;03m# create the environment\u001b[39;00m\n",
      "File \u001b[0;32m~/code/parabellum/parabellum/__init__.py:1\u001b[0m\n\u001b[0;32m----> 1\u001b[0m \u001b[38;5;28;01mfrom\u001b[39;00m \u001b[38;5;21;01m.\u001b[39;00m\u001b[38;5;21;01menv\u001b[39;00m \u001b[38;5;28;01mimport\u001b[39;00m Parabellum, Scenario, scenarios\n\u001b[1;32m      2\u001b[0m \u001b[38;5;28;01mfrom\u001b[39;00m \u001b[38;5;21;01m.\u001b[39;00m\u001b[38;5;21;01mvis\u001b[39;00m \u001b[38;5;28;01mimport\u001b[39;00m Visualizer\n\u001b[1;32m      4\u001b[0m __all__ \u001b[38;5;241m=\u001b[39m [\u001b[38;5;124m\"\u001b[39m\u001b[38;5;124mParabellum\u001b[39m\u001b[38;5;124m\"\u001b[39m, \u001b[38;5;124m\"\u001b[39m\u001b[38;5;124mVisualizer\u001b[39m\u001b[38;5;124m\"\u001b[39m, \u001b[38;5;124m\"\u001b[39m\u001b[38;5;124mScenario\u001b[39m\u001b[38;5;124m\"\u001b[39m, \u001b[38;5;124m\"\u001b[39m\u001b[38;5;124mscenarios\u001b[39m\u001b[38;5;124m\"\u001b[39m]\n",
      "File \u001b[0;32m~/code/parabellum/parabellum/env.py:11\u001b[0m\n\u001b[1;32m      9\u001b[0m \u001b[38;5;28;01mimport\u001b[39;00m \u001b[38;5;21;01mchex\u001b[39;00m\n\u001b[1;32m     10\u001b[0m \u001b[38;5;28;01mfrom\u001b[39;00m \u001b[38;5;21;01mjax\u001b[39;00m \u001b[38;5;28;01mimport\u001b[39;00m vmap\n\u001b[0;32m---> 11\u001b[0m \u001b[38;5;28;01mfrom\u001b[39;00m \u001b[38;5;21;01mjaxmarl\u001b[39;00m\u001b[38;5;21;01m.\u001b[39;00m\u001b[38;5;21;01menvironments\u001b[39;00m\u001b[38;5;21;01m.\u001b[39;00m\u001b[38;5;21;01msmax\u001b[39;00m\u001b[38;5;21;01m.\u001b[39;00m\u001b[38;5;21;01msmax_env\u001b[39;00m \u001b[38;5;28;01mimport\u001b[39;00m State, SMAX\n\u001b[1;32m     12\u001b[0m \u001b[38;5;28;01mfrom\u001b[39;00m \u001b[38;5;21;01mtyping\u001b[39;00m \u001b[38;5;28;01mimport\u001b[39;00m Tuple, Dict\n\u001b[1;32m     13\u001b[0m \u001b[38;5;28;01mfrom\u001b[39;00m \u001b[38;5;21;01mfunctools\u001b[39;00m \u001b[38;5;28;01mimport\u001b[39;00m partial\n",
      "File \u001b[0;32m~/Library/Caches/pypoetry/virtualenvs/parabellum-2VeurUE4-py3.11/lib/python3.11/site-packages/jaxmarl/__init__.py:1\u001b[0m\n\u001b[0;32m----> 1\u001b[0m \u001b[38;5;28;01mfrom\u001b[39;00m \u001b[38;5;21;01m.\u001b[39;00m\u001b[38;5;21;01mregistration\u001b[39;00m \u001b[38;5;28;01mimport\u001b[39;00m make, registered_envs\n\u001b[1;32m      3\u001b[0m __all__ \u001b[38;5;241m=\u001b[39m [\u001b[38;5;124m\"\u001b[39m\u001b[38;5;124mmake\u001b[39m\u001b[38;5;124m\"\u001b[39m, \u001b[38;5;124m\"\u001b[39m\u001b[38;5;124mregistered_envs\u001b[39m\u001b[38;5;124m\"\u001b[39m]\n\u001b[1;32m      4\u001b[0m __version__ \u001b[38;5;241m=\u001b[39m \u001b[38;5;124m\"\u001b[39m\u001b[38;5;124m0.0.3\u001b[39m\u001b[38;5;124m\"\u001b[39m\n",
      "File \u001b[0;32m~/Library/Caches/pypoetry/virtualenvs/parabellum-2VeurUE4-py3.11/lib/python3.11/site-packages/jaxmarl/registration.py:1\u001b[0m\n\u001b[0;32m----> 1\u001b[0m \u001b[38;5;28;01mfrom\u001b[39;00m \u001b[38;5;21;01m.\u001b[39;00m\u001b[38;5;21;01menvironments\u001b[39;00m \u001b[38;5;28;01mimport\u001b[39;00m (\n\u001b[1;32m      2\u001b[0m     SimpleMPE,\n\u001b[1;32m      3\u001b[0m     SimpleTagMPE,\n\u001b[1;32m      4\u001b[0m     SimpleWorldCommMPE,\n\u001b[1;32m      5\u001b[0m     SimpleSpreadMPE,\n\u001b[1;32m      6\u001b[0m     SimpleCryptoMPE,\n\u001b[1;32m      7\u001b[0m     SimpleSpeakerListenerMPE,\n\u001b[1;32m      8\u001b[0m     SimpleFacmacMPE,\n\u001b[1;32m      9\u001b[0m     SimpleFacmacMPE3a,\n\u001b[1;32m     10\u001b[0m     SimpleFacmacMPE6a,\n\u001b[1;32m     11\u001b[0m     SimpleFacmacMPE9a,\n\u001b[1;32m     12\u001b[0m     SimplePushMPE,\n\u001b[1;32m     13\u001b[0m     SimpleAdversaryMPE,\n\u001b[1;32m     14\u001b[0m     SimpleReferenceMPE,\n\u001b[1;32m     15\u001b[0m     SMAX,\n\u001b[1;32m     16\u001b[0m     HeuristicEnemySMAX,\n\u001b[1;32m     17\u001b[0m     LearnedPolicyEnemySMAX,\n\u001b[1;32m     18\u001b[0m     SwitchRiddle,\n\u001b[1;32m     19\u001b[0m     Ant,\n\u001b[1;32m     20\u001b[0m     Humanoid,\n\u001b[1;32m     21\u001b[0m     Hopper,\n\u001b[1;32m     22\u001b[0m     Walker2d,\n\u001b[1;32m     23\u001b[0m     HalfCheetah,\n\u001b[1;32m     24\u001b[0m     InTheGrid,\n\u001b[1;32m     25\u001b[0m     InTheGrid_2p,\n\u001b[1;32m     26\u001b[0m     Hanabi,\n\u001b[1;32m     27\u001b[0m     Overcooked,\n\u001b[1;32m     28\u001b[0m     CoinGame,\n\u001b[1;32m     29\u001b[0m )\n\u001b[1;32m     33\u001b[0m \u001b[38;5;28;01mdef\u001b[39;00m \u001b[38;5;21mmake\u001b[39m(env_id: \u001b[38;5;28mstr\u001b[39m, \u001b[38;5;241m*\u001b[39m\u001b[38;5;241m*\u001b[39menv_kwargs):\n\u001b[1;32m     34\u001b[0m \u001b[38;5;250m    \u001b[39m\u001b[38;5;124;03m\"\"\"A JAX-version of OpenAI's env.make(env_name), built off Gymnax\"\"\"\u001b[39;00m\n",
      "File \u001b[0;32m~/Library/Caches/pypoetry/virtualenvs/parabellum-2VeurUE4-py3.11/lib/python3.11/site-packages/jaxmarl/environments/__init__.py:2\u001b[0m\n\u001b[1;32m      1\u001b[0m \u001b[38;5;28;01mfrom\u001b[39;00m \u001b[38;5;21;01m.\u001b[39;00m\u001b[38;5;21;01mmulti_agent_env\u001b[39;00m \u001b[38;5;28;01mimport\u001b[39;00m MultiAgentEnv, State\n\u001b[0;32m----> 2\u001b[0m \u001b[38;5;28;01mfrom\u001b[39;00m \u001b[38;5;21;01m.\u001b[39;00m\u001b[38;5;21;01mmpe\u001b[39;00m \u001b[38;5;28;01mimport\u001b[39;00m (\n\u001b[1;32m      3\u001b[0m     SimpleMPE,\n\u001b[1;32m      4\u001b[0m     SimpleTagMPE,\n\u001b[1;32m      5\u001b[0m     SimpleWorldCommMPE,\n\u001b[1;32m      6\u001b[0m     SimpleSpreadMPE,\n\u001b[1;32m      7\u001b[0m     SimpleCryptoMPE,\n\u001b[1;32m      8\u001b[0m     SimpleSpeakerListenerMPE,\n\u001b[1;32m      9\u001b[0m     SimplePushMPE,\n\u001b[1;32m     10\u001b[0m     SimpleAdversaryMPE,\n\u001b[1;32m     11\u001b[0m     SimpleReferenceMPE,\n\u001b[1;32m     12\u001b[0m     SimpleFacmacMPE,\n\u001b[1;32m     13\u001b[0m     SimpleFacmacMPE3a,\n\u001b[1;32m     14\u001b[0m     SimpleFacmacMPE6a,\n\u001b[1;32m     15\u001b[0m     SimpleFacmacMPE9a\n\u001b[1;32m     16\u001b[0m )\n\u001b[1;32m     17\u001b[0m \u001b[38;5;28;01mfrom\u001b[39;00m \u001b[38;5;21;01m.\u001b[39;00m\u001b[38;5;21;01msmax\u001b[39;00m \u001b[38;5;28;01mimport\u001b[39;00m SMAX, HeuristicEnemySMAX, LearnedPolicyEnemySMAX\n\u001b[1;32m     18\u001b[0m \u001b[38;5;28;01mfrom\u001b[39;00m \u001b[38;5;21;01m.\u001b[39;00m\u001b[38;5;21;01mswitch_riddle\u001b[39;00m \u001b[38;5;28;01mimport\u001b[39;00m SwitchRiddle\n",
      "File \u001b[0;32m~/Library/Caches/pypoetry/virtualenvs/parabellum-2VeurUE4-py3.11/lib/python3.11/site-packages/jaxmarl/environments/mpe/__init__.py:5\u001b[0m\n\u001b[1;32m      3\u001b[0m \u001b[38;5;28;01mfrom\u001b[39;00m \u001b[38;5;21;01m.\u001b[39;00m\u001b[38;5;21;01msimple_tag\u001b[39;00m \u001b[38;5;28;01mimport\u001b[39;00m SimpleTagMPE\n\u001b[1;32m      4\u001b[0m \u001b[38;5;28;01mfrom\u001b[39;00m \u001b[38;5;21;01m.\u001b[39;00m\u001b[38;5;21;01msimple_spread\u001b[39;00m \u001b[38;5;28;01mimport\u001b[39;00m SimpleSpreadMPE\n\u001b[0;32m----> 5\u001b[0m \u001b[38;5;28;01mfrom\u001b[39;00m \u001b[38;5;21;01m.\u001b[39;00m\u001b[38;5;21;01msimple_push\u001b[39;00m \u001b[38;5;28;01mimport\u001b[39;00m SimplePushMPE\n\u001b[1;32m      6\u001b[0m \u001b[38;5;28;01mfrom\u001b[39;00m \u001b[38;5;21;01m.\u001b[39;00m\u001b[38;5;21;01msimple_crypto\u001b[39;00m \u001b[38;5;28;01mimport\u001b[39;00m SimpleCryptoMPE\n\u001b[1;32m      7\u001b[0m \u001b[38;5;28;01mfrom\u001b[39;00m \u001b[38;5;21;01m.\u001b[39;00m\u001b[38;5;21;01msimple_speaker_listener\u001b[39;00m \u001b[38;5;28;01mimport\u001b[39;00m SimpleSpeakerListenerMPE\n",
      "File \u001b[0;32m~/Library/Caches/pypoetry/virtualenvs/parabellum-2VeurUE4-py3.11/lib/python3.11/site-packages/jaxmarl/environments/mpe/simple_push.py:11\u001b[0m\n\u001b[1;32m      8\u001b[0m \u001b[38;5;28;01mfrom\u001b[39;00m \u001b[38;5;21;01mgymnax\u001b[39;00m\u001b[38;5;21;01m.\u001b[39;00m\u001b[38;5;21;01menvironments\u001b[39;00m\u001b[38;5;21;01m.\u001b[39;00m\u001b[38;5;21;01mspaces\u001b[39;00m \u001b[38;5;28;01mimport\u001b[39;00m Box\n\u001b[1;32m     10\u001b[0m \u001b[38;5;66;03m# Obstacle Colours\u001b[39;00m\n\u001b[0;32m---> 11\u001b[0m COLOUR_1 \u001b[38;5;241m=\u001b[39m \u001b[43mjnp\u001b[49m\u001b[38;5;241;43m.\u001b[39;49m\u001b[43marray\u001b[49m\u001b[43m(\u001b[49m\u001b[43m[\u001b[49m\u001b[38;5;241;43m0.1\u001b[39;49m\u001b[43m,\u001b[49m\u001b[43m \u001b[49m\u001b[38;5;241;43m0.9\u001b[39;49m\u001b[43m,\u001b[49m\u001b[43m \u001b[49m\u001b[38;5;241;43m0.1\u001b[39;49m\u001b[43m]\u001b[49m\u001b[43m)\u001b[49m\n\u001b[1;32m     12\u001b[0m COLOUR_2 \u001b[38;5;241m=\u001b[39m jnp\u001b[38;5;241m.\u001b[39marray([\u001b[38;5;241m0.1\u001b[39m, \u001b[38;5;241m0.1\u001b[39m, \u001b[38;5;241m0.9\u001b[39m])  \n\u001b[1;32m     13\u001b[0m OBS_COLOUR \u001b[38;5;241m=\u001b[39m jnp\u001b[38;5;241m.\u001b[39mconcatenate([COLOUR_1, COLOUR_2])\n",
      "File \u001b[0;32m~/Library/Caches/pypoetry/virtualenvs/parabellum-2VeurUE4-py3.11/lib/python3.11/site-packages/jax/_src/numpy/lax_numpy.py:2070\u001b[0m, in \u001b[0;36marray\u001b[0;34m(object, dtype, copy, order, ndmin)\u001b[0m\n\u001b[1;32m   2063\u001b[0m out: ArrayLike\n\u001b[1;32m   2065\u001b[0m \u001b[38;5;28;01mif\u001b[39;00m \u001b[38;5;28mall\u001b[39m(\u001b[38;5;129;01mnot\u001b[39;00m \u001b[38;5;28misinstance\u001b[39m(leaf, Array) \u001b[38;5;28;01mfor\u001b[39;00m leaf \u001b[38;5;129;01min\u001b[39;00m leaves):\n\u001b[1;32m   2066\u001b[0m   \u001b[38;5;66;03m# TODO(jakevdp): falling back to numpy here fails to overflow for lists\u001b[39;00m\n\u001b[1;32m   2067\u001b[0m   \u001b[38;5;66;03m# containing large integers; see discussion in\u001b[39;00m\n\u001b[1;32m   2068\u001b[0m   \u001b[38;5;66;03m# https://github.com/google/jax/pull/6047. More correct would be to call\u001b[39;00m\n\u001b[1;32m   2069\u001b[0m   \u001b[38;5;66;03m# coerce_to_array on each leaf, but this may have performance implications.\u001b[39;00m\n\u001b[0;32m-> 2070\u001b[0m   out \u001b[38;5;241m=\u001b[39m \u001b[43mnp\u001b[49m\u001b[38;5;241;43m.\u001b[39;49m\u001b[43marray\u001b[49m\u001b[43m(\u001b[49m\u001b[38;5;28;43mobject\u001b[39;49m\u001b[43m,\u001b[49m\u001b[43m \u001b[49m\u001b[43mdtype\u001b[49m\u001b[38;5;241;43m=\u001b[39;49m\u001b[43mdtype\u001b[49m\u001b[43m,\u001b[49m\u001b[43m \u001b[49m\u001b[43mndmin\u001b[49m\u001b[38;5;241;43m=\u001b[39;49m\u001b[43mndmin\u001b[49m\u001b[43m,\u001b[49m\u001b[43m \u001b[49m\u001b[43mcopy\u001b[49m\u001b[38;5;241;43m=\u001b[39;49m\u001b[38;5;28;43;01mFalse\u001b[39;49;00m\u001b[43m)\u001b[49m  \u001b[38;5;66;03m# type: ignore[arg-type]\u001b[39;00m\n\u001b[1;32m   2071\u001b[0m \u001b[38;5;28;01melif\u001b[39;00m \u001b[38;5;28misinstance\u001b[39m(\u001b[38;5;28mobject\u001b[39m, Array):\n\u001b[1;32m   2072\u001b[0m   \u001b[38;5;28;01massert\u001b[39;00m \u001b[38;5;28mobject\u001b[39m\u001b[38;5;241m.\u001b[39maval \u001b[38;5;129;01mis\u001b[39;00m \u001b[38;5;129;01mnot\u001b[39;00m \u001b[38;5;28;01mNone\u001b[39;00m\n",
      "\u001b[0;31mValueError\u001b[0m: Unable to avoid copy while creating an array as requested.\nIf using `np.array(obj, copy=False)` replace it with `np.asarray(obj)` to allow a copy when needed (no behavior change in NumPy 1.x).\nFor more details, see https://numpy.org/devdocs/numpy_2_0_migration_guide.html#adapting-to-changes-in-the-copy-keyword."
     ]
    }
   ],
   "source": [
    "import parabellum as pb\n",
    "from jax import random\n",
    "\n",
    "# create the environment\n",
    "kwargs = dict(map_width=256, map_height=256, num_allies=10, num_enemies=10)\n",
    "env = pb.Parabellum(**kwargs)  # <- Parabellum is the central class of parabellum\n",
    "\n",
    "# initiate stochasticity\n",
    "rng = random.PRNGKey(0)\n",
    "rng, key = random.split(rng)\n",
    "\n",
    "# initialize the environment state\n",
    "obs, state = env.reset(key)\n",
    "state_sequence = []\n",
    "\n",
    "for _ in range(1000):\n",
    "    # manage stochasticity\n",
    "    rng, rng_act, key_step = random.split(key, 3)\n",
    "    key_act = random.split(rng_act, len(env.agents))\n",
    "\n",
    "    # sample actions and append to state sequence\n",
    "    act = {a: env.action_space(a).sample(k) for a, k in zip(env.agents, key_act)}\n",
    "\n",
    "    # step the environment\n",
    "    state_sequence.append((key_act, state, act))\n",
    "    obs, state, reward, done, info = env.step(key_step, state, act)\n",
    "\n",
    "\n",
    "# save visualization of the state sequence\n",
    "vis = pb.Visualizer(env, state_sequence)  # <- Visualizer is a nice to have class\n",
    "vis.animate()"
   ]
  },
  {
   "cell_type": "code",
   "execution_count": null,
   "metadata": {},
   "outputs": [],
   "source": []
  },
  {
   "cell_type": "code",
   "execution_count": null,
   "metadata": {},
   "outputs": [],
   "source": []
  }
 ],
 "metadata": {
  "kernelspec": {
   "display_name": "parabellum-2VeurUE4-py3.11",
   "language": "python",
   "name": "python3"
  },
  "language_info": {
   "codemirror_mode": {
    "name": "ipython",
    "version": 3
   },
   "file_extension": ".py",
   "mimetype": "text/x-python",
   "name": "python",
   "nbconvert_exporter": "python",
   "pygments_lexer": "ipython3",
   "version": "3.11.7"
  }
 },
 "nbformat": 4,
 "nbformat_minor": 2
}
